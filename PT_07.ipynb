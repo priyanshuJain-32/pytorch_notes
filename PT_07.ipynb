{
 "cells": [
  {
   "cell_type": "markdown",
   "metadata": {},
   "source": [
    "## PyTorch Tutorial 07 - Linear Regression"
   ]
  },
  {
   "cell_type": "markdown",
   "metadata": {},
   "source": [
    "### Steps in implementation\n",
    "\n",
    "1. Design model (input size, output size, forward pass)\n",
    "2. Construct loss and optimizer\n",
    "3. Training loop\n",
    "- Forward pass: compute y_pred\n",
    "- Backward pass: gradients\n",
    "- Update weights"
   ]
  },
  {
   "cell_type": "code",
   "execution_count": 1,
   "metadata": {},
   "outputs": [],
   "source": [
    "import torch\n",
    "import torch.nn as nn\n",
    "import numpy as np\n",
    "from sklearn import datasets\n",
    "import matplotlib.pyplot as plt"
   ]
  },
  {
   "cell_type": "code",
   "execution_count": 20,
   "metadata": {},
   "outputs": [
    {
     "data": {
      "text/plain": [
       "(torch.Size([100, 1]), torch.Size([100, 1]))"
      ]
     },
     "execution_count": 20,
     "metadata": {},
     "output_type": "execute_result"
    }
   ],
   "source": [
    "# Prepare random data using datasets from sklearn\n",
    "\n",
    "X_numpy, y_numpy = datasets.make_regression(n_samples = 100, n_features=1, noise=20, random_state=1)\n",
    "X.shape, y.shape"
   ]
  },
  {
   "cell_type": "code",
   "execution_count": 21,
   "metadata": {},
   "outputs": [
    {
     "data": {
      "text/plain": [
       "(torch.Size([100, 1]), torch.Size([100]))"
      ]
     },
     "execution_count": 21,
     "metadata": {},
     "output_type": "execute_result"
    }
   ],
   "source": [
    "# Next we convert the numpy arrays into torch tensors and reshape them as they are currently just a single row\n",
    "\n",
    "X = torch.from_numpy(X_numpy.astype(np.float32))\n",
    "\n",
    "y = torch.from_numpy(y_numpy.astype(np.float32))\n",
    "X.shape, y.shape"
   ]
  },
  {
   "cell_type": "code",
   "execution_count": 22,
   "metadata": {},
   "outputs": [
    {
     "data": {
      "text/plain": [
       "(torch.Size([100, 1]), torch.Size([100, 1]))"
      ]
     },
     "execution_count": 22,
     "metadata": {},
     "output_type": "execute_result"
    }
   ],
   "source": [
    "y = y.view(y.shape[0], 1)\n",
    "X.shape, y.shape"
   ]
  },
  {
   "cell_type": "code",
   "execution_count": 23,
   "metadata": {},
   "outputs": [],
   "source": [
    "n_samples, n_features = X.shape\n",
    "\n",
    "input_size = n_features\n",
    "output_size = 1\n",
    "\n",
    "# Create model\n",
    "model = nn.Linear(input_size, output_size)"
   ]
  },
  {
   "cell_type": "code",
   "execution_count": 24,
   "metadata": {},
   "outputs": [],
   "source": [
    "learning_rate = 0.01\n",
    "\n",
    "# Loss and optimizer\n",
    "loss = nn.MSELoss()\n",
    "\n",
    "# optimizer\n",
    "optimizer = torch.optim.SGD(model.parameters(), lr=learning_rate)"
   ]
  },
  {
   "cell_type": "code",
   "execution_count": 28,
   "metadata": {},
   "outputs": [
    {
     "name": "stdout",
     "output_type": "stream",
     "text": [
      "Prediction before training f(5) = 333.4825439453125\n"
     ]
    }
   ],
   "source": [
    "X_test = torch.tensor([5], dtype=torch.float32)\n",
    "print(\"Prediction before training f(5) = {}\".format(model(X_test).item()))"
   ]
  },
  {
   "cell_type": "code",
   "execution_count": 26,
   "metadata": {},
   "outputs": [
    {
     "name": "stdout",
     "output_type": "stream",
     "text": [
      "Epoch = 1; Loss = 5697.56005859375; Weight = 1.6505227088928223\n",
      "Epoch = 6; Loss = 4899.14697265625; Weight = 7.836489200592041\n",
      "Epoch = 11; Loss = 4220.51416015625; Weight = 13.5460786819458\n",
      "Epoch = 16; Loss = 3643.518798828125; Weight = 18.816261291503906\n",
      "Epoch = 21; Loss = 3152.796875; Weight = 23.681110382080078\n",
      "Epoch = 26; Loss = 2735.332763671875; Weight = 28.172035217285156\n",
      "Epoch = 31; Loss = 2380.095703125; Weight = 32.31798553466797\n",
      "Epoch = 36; Loss = 2077.73193359375; Weight = 36.14564895629883\n",
      "Epoch = 41; Loss = 1820.307861328125; Weight = 39.67963409423828\n",
      "Epoch = 46; Loss = 1601.0919189453125; Weight = 42.94263458251953\n",
      "Epoch = 51; Loss = 1414.370361328125; Weight = 45.95556640625\n",
      "Epoch = 56; Loss = 1255.2911376953125; Weight = 48.73772430419922\n",
      "Epoch = 61; Loss = 1119.73388671875; Weight = 51.30689239501953\n",
      "Epoch = 66; Loss = 1004.1972045898438; Weight = 53.67948532104492\n",
      "Epoch = 71; Loss = 905.7045288085938; Weight = 55.870635986328125\n",
      "Epoch = 76; Loss = 821.7260131835938; Weight = 57.894309997558594\n",
      "Epoch = 81; Loss = 750.1101684570312; Weight = 59.76337814331055\n",
      "Epoch = 86; Loss = 689.0263061523438; Weight = 61.48972702026367\n",
      "Epoch = 91; Loss = 636.9169311523438; Weight = 63.08431625366211\n",
      "Epoch = 96; Loss = 592.456787109375; Weight = 64.55725860595703\n"
     ]
    }
   ],
   "source": [
    "num_epochs = 100\n",
    "\n",
    "for epoch in range(num_epochs):\n",
    "    # forward pass and loss\n",
    "    y_predicted = model(X)\n",
    "\n",
    "    # loss\n",
    "    l = loss(y_predicted, y)\n",
    "\n",
    "    # backward pass\n",
    "    l.backward()\n",
    "\n",
    "    # update\n",
    "    optimizer.step()\n",
    "\n",
    "    # Zero grad\n",
    "    optimizer.zero_grad()\n",
    "\n",
    "    if epoch%5==0:\n",
    "        [w,b] = model.parameters()\n",
    "        print(\"Epoch = {}; Loss = {}; Weight = {}\".format(epoch+1, l.item(), w[0][0]))"
   ]
  },
  {
   "cell_type": "code",
   "execution_count": 29,
   "metadata": {},
   "outputs": [
    {
     "name": "stdout",
     "output_type": "stream",
     "text": [
      "Prediction after training f(5) = 333.4825439453125\n"
     ]
    }
   ],
   "source": [
    "print(\"Prediction after training f(5) = {}\".format(model(X_test).item()))"
   ]
  },
  {
   "cell_type": "code",
   "execution_count": 38,
   "metadata": {},
   "outputs": [
    {
     "data": {
      "image/png": "[encoded data removed]",
      "text/plain": [
       "<Figure size 640x480 with 1 Axes>"
      ]
     },
     "metadata": {},
     "output_type": "display_data"
    }
   ],
   "source": [
    "predicted = model(X).detach().numpy()\n",
    "\n",
    "plt.plot(X_numpy, y_numpy, 'ro')\n",
    "plt.plot(X_numpy, predicted, 'b')\n",
    "plt.show()"
   ]
  }
 ],
 "metadata": {
  "kernelspec": {
   "display_name": "Python 3",
   "language": "python",
   "name": "python3"
  },
  "language_info": {
   "codemirror_mode": {
    "name": "ipython",
    "version": 3
   },
   "file_extension": ".py",
   "mimetype": "text/x-python",
   "name": "python",
   "nbconvert_exporter": "python",
   "pygments_lexer": "ipython3",
   "version": "3.9.18"
  }
 },
 "nbformat": 4,
 "nbformat_minor": 2
}
