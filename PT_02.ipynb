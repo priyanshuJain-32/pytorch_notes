{
 "cells": [
  {
   "cell_type": "markdown",
   "metadata": {},
   "source": [
    "## PyTorch Tutorial 02 - Tensor Basics"
   ]
  },
  {
   "cell_type": "code",
   "execution_count": null,
   "metadata": {},
   "outputs": [],
   "source": [
    "import torch"
   ]
  },
  {
   "cell_type": "markdown",
   "metadata": {},
   "source": [
    "### Creating a Tensor"
   ]
  },
  {
   "cell_type": "code",
   "execution_count": 2,
   "metadata": {},
   "outputs": [
    {
     "name": "stdout",
     "output_type": "stream",
     "text": [
      "tensor([0., 0., 0.])\n"
     ]
    }
   ],
   "source": [
    "x = torch.empty(3) # creating an empty 1D tensor of size 3\n",
    "print(x)"
   ]
  },
  {
   "cell_type": "code",
   "execution_count": 3,
   "metadata": {},
   "outputs": [
    {
     "name": "stdout",
     "output_type": "stream",
     "text": [
      "tensor([[0., 0.],\n",
      "        [0., 0.],\n",
      "        [0., 0.]])\n"
     ]
    }
   ],
   "source": [
    "x = torch.empty(3,2) # creating an empty 2D tensor of size 3,2\n",
    "print(x)"
   ]
  },
  {
   "cell_type": "code",
   "execution_count": 4,
   "metadata": {},
   "outputs": [
    {
     "name": "stdout",
     "output_type": "stream",
     "text": [
      "tensor([[[0., 0.],\n",
      "         [0., 0.]],\n",
      "\n",
      "        [[0., 0.],\n",
      "         [0., 0.]],\n",
      "\n",
      "        [[0., 0.],\n",
      "         [0., 0.]]])\n"
     ]
    }
   ],
   "source": [
    "x = torch.empty(3,2,2) # creating an empty 3D tensor of size 3,2,2 and so on\n",
    "print(x)\n",
    "\n",
    "# other commands torch.zeros, torch.ones"
   ]
  },
  {
   "cell_type": "code",
   "execution_count": 6,
   "metadata": {},
   "outputs": [
    {
     "name": "stdout",
     "output_type": "stream",
     "text": [
      "tensor([[1., 1.],\n",
      "        [1., 1.]], dtype=torch.float16)\n"
     ]
    }
   ],
   "source": [
    "# We can also pass dtype\n",
    "x = torch.ones(2,2, dtype=torch.float16)\n",
    "print(x)"
   ]
  },
  {
   "cell_type": "code",
   "execution_count": 7,
   "metadata": {},
   "outputs": [
    {
     "name": "stdout",
     "output_type": "stream",
     "text": [
      "tensor([1, 2, 3])\n"
     ]
    }
   ],
   "source": [
    "x = torch.tensor([1,2,3]) # Create by passing actual elements\n",
    "print(x)"
   ]
  },
  {
   "cell_type": "markdown",
   "metadata": {},
   "source": [
    "### Tensor Arithmetic"
   ]
  },
  {
   "cell_type": "code",
   "execution_count": 14,
   "metadata": {},
   "outputs": [
    {
     "name": "stdout",
     "output_type": "stream",
     "text": [
      "tensor([[0.7554, 0.4764],\n",
      "        [0.9499, 0.8678]]) tensor([[0.3738, 0.4323],\n",
      "        [0.6558, 0.8988]])\n"
     ]
    }
   ],
   "source": [
    "# Tensor operations\n",
    "\n",
    "x = torch.rand(2,2)\n",
    "y = torch.rand(2,2)\n",
    "print(x,y)"
   ]
  },
  {
   "cell_type": "code",
   "execution_count": 15,
   "metadata": {},
   "outputs": [
    {
     "name": "stdout",
     "output_type": "stream",
     "text": [
      "tensor([[1.1291, 0.9087],\n",
      "        [1.6057, 1.7666]])\n",
      "tensor([[0.3738, 0.4323],\n",
      "        [0.6558, 0.8988]])\n",
      "tensor([[1.1291, 0.9087],\n",
      "        [1.6057, 1.7666]])\n"
     ]
    }
   ],
   "source": [
    "# Element wise addition\n",
    "print(x+y) # Multiple ways to perform arithmetic operation on tensors\n",
    "torch.add(x,y) \n",
    "print(y)\n",
    "y.add_(x) # Trailing underscore performs inplace operations in Torch\n",
    "# Without trailing underscore it will perform without inplace\n",
    "\n",
    "print(y)"
   ]
  },
  {
   "cell_type": "code",
   "execution_count": 19,
   "metadata": {},
   "outputs": [
    {
     "name": "stdout",
     "output_type": "stream",
     "text": [
      "tensor([[2.6478, 1.4731],\n",
      "        [3.1438, 2.5724]])\n",
      "tensor([[-1.4295, -0.4748],\n",
      "        [-2.0840, -1.4792]])\n",
      "tensor([[-1.8924, -0.9967],\n",
      "        [-2.1939, -1.7046]])\n"
     ]
    }
   ],
   "source": [
    "# same thing for sub, mul\n",
    "y.sub_(x)\n",
    "torch.sub(x,y)\n",
    "print(x-y) # etc\n",
    "\n",
    "print(y.mul(x))\n",
    "print(y)"
   ]
  },
  {
   "cell_type": "markdown",
   "metadata": {},
   "source": [
    "### Slicing Tensors"
   ]
  },
  {
   "cell_type": "code",
   "execution_count": 24,
   "metadata": {},
   "outputs": [],
   "source": [
    "# Slicing operations on Tensors\n",
    "x = torch.tensor([[1,2,3,4],[5,6,7,8],[9,10,11,12]])"
   ]
  },
  {
   "cell_type": "code",
   "execution_count": 25,
   "metadata": {},
   "outputs": [
    {
     "name": "stdout",
     "output_type": "stream",
     "text": [
      "tensor([1, 5, 9])\n"
     ]
    }
   ],
   "source": [
    "print(x[:,0]) # All rows first column"
   ]
  },
  {
   "cell_type": "code",
   "execution_count": 26,
   "metadata": {},
   "outputs": [
    {
     "name": "stdout",
     "output_type": "stream",
     "text": [
      "tensor([5, 6, 7, 8])\n"
     ]
    }
   ],
   "source": [
    "print(x[1,:]) # First row all columns"
   ]
  },
  {
   "cell_type": "code",
   "execution_count": 28,
   "metadata": {},
   "outputs": [
    {
     "name": "stdout",
     "output_type": "stream",
     "text": [
      "6\n"
     ]
    }
   ],
   "source": [
    "print(x[1,1]) # Specific value\n"
   ]
  },
  {
   "cell_type": "code",
   "execution_count": 31,
   "metadata": {},
   "outputs": [
    {
     "name": "stdout",
     "output_type": "stream",
     "text": [
      "tensor([[8.3812e-01, 3.5946e-01, 2.4022e-01, 8.0060e-01],\n",
      "        [1.6612e-04, 5.1938e-01, 1.9210e-01, 5.4538e-01],\n",
      "        [3.9348e-01, 3.7356e-01, 9.5387e-01, 2.7667e-01],\n",
      "        [2.1563e-01, 1.5566e-01, 9.8775e-01, 9.7908e-01]])\n",
      "tensor([[8.3812e-01, 3.5946e-01],\n",
      "        [2.4022e-01, 8.0060e-01],\n",
      "        [1.6612e-04, 5.1938e-01],\n",
      "        [1.9210e-01, 5.4538e-01],\n",
      "        [3.9348e-01, 3.7356e-01],\n",
      "        [9.5387e-01, 2.7667e-01],\n",
      "        [2.1563e-01, 1.5566e-01],\n",
      "        [9.8775e-01, 9.7908e-01]])\n"
     ]
    }
   ],
   "source": [
    "x = torch.rand(4,4)\n",
    "print(x)\n",
    "\n",
    "# Using view to chang\n",
    "y = x.view(-1,2) # Here Pytorch auto determines the correct size for \"-1\"\n",
    "print(y)"
   ]
  },
  {
   "cell_type": "code",
   "execution_count": 36,
   "metadata": {},
   "outputs": [
    {
     "name": "stdout",
     "output_type": "stream",
     "text": [
      "<class 'numpy.ndarray'> \n",
      " [1. 1. 1. 1. 1.]\n"
     ]
    }
   ],
   "source": [
    "# Converting tensor to numpy array\n",
    "x = torch.ones(5)\n",
    "y = x.numpy()\n",
    "print(type(y),\"\\n\",y)\n",
    "\n",
    "# NOTE: If tensor is on cpu then both numpy array and tensor will have the same memory location\n",
    "\n",
    "x += 1\n",
    "print(y)"
   ]
  },
  {
   "cell_type": "markdown",
   "metadata": {},
   "source": [
    "### CUDA"
   ]
  },
  {
   "cell_type": "code",
   "execution_count": 39,
   "metadata": {},
   "outputs": [],
   "source": [
    "# no cuda in my Mac currently\n",
    "\n",
    "if torch.cuda.is_available():\n",
    "    device = torch.device(\"cuda\")\n",
    "\n",
    "    x = torch.ones(5, device=device)\n",
    "    y = torch.ones(5)\n",
    "    y = y.to(device)\n",
    "\n",
    "    z = x+y\n",
    "    print(z)\n",
    "    z = z.to(\"cpu\")\n",
    "\n",
    "# numpy can only handle cpu tensors"
   ]
  },
  {
   "cell_type": "code",
   "execution_count": 41,
   "metadata": {},
   "outputs": [
    {
     "data": {
      "text/plain": [
       "False"
      ]
     },
     "execution_count": 41,
     "metadata": {},
     "output_type": "execute_result"
    }
   ],
   "source": [
    "torch.cuda.is_available()"
   ]
  },
  {
   "cell_type": "code",
   "execution_count": 44,
   "metadata": {},
   "outputs": [
    {
     "data": {
      "text/plain": [
       "tensor([1., 1., 1., 1., 1.], requires_grad=True)"
      ]
     },
     "execution_count": 44,
     "metadata": {},
     "output_type": "execute_result"
    }
   ],
   "source": [
    "# Requires gradient to be computed\n",
    "\n",
    "torch.ones(5, requires_grad=True)"
   ]
  }
 ],
 "metadata": {
  "kernelspec": {
   "display_name": "Python 3",
   "language": "python",
   "name": "python3"
  },
  "language_info": {
   "codemirror_mode": {
    "name": "ipython",
    "version": 3
   },
   "file_extension": ".py",
   "mimetype": "text/x-python",
   "name": "python",
   "nbconvert_exporter": "python",
   "pygments_lexer": "ipython3",
   "version": "3.9.18"
  }
 },
 "nbformat": 4,
 "nbformat_minor": 2
}
