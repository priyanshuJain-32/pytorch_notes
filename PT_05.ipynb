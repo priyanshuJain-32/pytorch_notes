{
 "cells": [
  {
   "cell_type": "markdown",
   "metadata": {},
   "source": [
    "## PyTorch Tutorial 05 - Gradient Descent with Autograd and Backpropagation"
   ]
  },
  {
   "cell_type": "markdown",
   "metadata": {},
   "source": [
    "### Gradient using manual implementation"
   ]
  },
  {
   "cell_type": "code",
   "execution_count": 3,
   "metadata": {},
   "outputs": [],
   "source": [
    "import numpy as np"
   ]
  },
  {
   "cell_type": "code",
   "execution_count": 35,
   "metadata": {},
   "outputs": [],
   "source": [
    "# f = w * x \"Linear Regression\"\n",
    "\n",
    "# Lets assume w = 2\n",
    "\n",
    "# Initialize data sample\n",
    "\n",
    "x = np.array([1,2,3,4], dtype=np.float32)\n",
    "y = np.array([2,4,6,8], dtype = np.float32)"
   ]
  },
  {
   "cell_type": "code",
   "execution_count": 36,
   "metadata": {},
   "outputs": [],
   "source": [
    "# Initialize random w\n",
    "\n",
    "w = 0.0"
   ]
  },
  {
   "cell_type": "code",
   "execution_count": 37,
   "metadata": {},
   "outputs": [],
   "source": [
    "# model prediction\n",
    "def forward(x):\n",
    "    return w * x"
   ]
  },
  {
   "cell_type": "code",
   "execution_count": 38,
   "metadata": {},
   "outputs": [],
   "source": [
    "# loss = MSE\n",
    "def loss(y, y_predicted):\n",
    "    return ((y_predicted - y)**2).mean()"
   ]
  },
  {
   "cell_type": "code",
   "execution_count": 39,
   "metadata": {},
   "outputs": [],
   "source": [
    "# gradient\n",
    "# MSE = 1/N * (w*x - y)**2\n",
    "\n",
    "# dL/dw = 1/N * 2*(w*x - y)*x\n",
    "\n",
    "def gradient(x, y, y_predicted):\n",
    "    return np.dot(2*x, y_predicted-y).mean()"
   ]
  },
  {
   "cell_type": "code",
   "execution_count": 40,
   "metadata": {},
   "outputs": [
    {
     "name": "stdout",
     "output_type": "stream",
     "text": [
      "Prediction before training: f(5) =  0.000\n"
     ]
    }
   ],
   "source": [
    "# Now we will print our prediction\n",
    "\n",
    "print(f\"Prediction before training: f(5) = {forward(5): .3f}\")"
   ]
  },
  {
   "cell_type": "code",
   "execution_count": 41,
   "metadata": {},
   "outputs": [
    {
     "name": "stdout",
     "output_type": "stream",
     "text": [
      "epoch 1: w =  1.200, loss = 30.00000000\n",
      "epoch 2: w =  1.680, loss = 4.79999924\n",
      "epoch 3: w =  1.872, loss = 0.76800019\n",
      "epoch 4: w =  1.949, loss = 0.12288000\n",
      "epoch 5: w =  1.980, loss = 0.01966083\n",
      "epoch 6: w =  1.992, loss = 0.00314570\n",
      "epoch 7: w =  1.997, loss = 0.00050332\n",
      "epoch 8: w =  1.999, loss = 0.00008053\n",
      "epoch 9: w =  1.999, loss = 0.00001288\n",
      "epoch 10: w =  2.000, loss = 0.00000206\n",
      "epoch 11: w =  2.000, loss = 0.00000033\n",
      "epoch 12: w =  2.000, loss = 0.00000005\n",
      "epoch 13: w =  2.000, loss = 0.00000001\n",
      "epoch 14: w =  2.000, loss = 0.00000000\n",
      "epoch 15: w =  2.000, loss = 0.00000000\n",
      "epoch 16: w =  2.000, loss = 0.00000000\n",
      "epoch 17: w =  2.000, loss = 0.00000000\n",
      "epoch 18: w =  2.000, loss = 0.00000000\n",
      "epoch 19: w =  2.000, loss = 0.00000000\n",
      "epoch 20: w =  2.000, loss = 0.00000000\n"
     ]
    }
   ],
   "source": [
    "learning_rate = 0.01\n",
    "n_iters = 100\n",
    "\n",
    "for epoch in range(n_iters):\n",
    "\n",
    "    # prediction = forward pass\n",
    "    y_pred = forward(x)\n",
    "    \n",
    "    # loss\n",
    "    l = loss(y, y_pred)\n",
    "\n",
    "    # gradient\n",
    "    dw = gradient(x,y,y_pred)\n",
    "\n",
    "    # update weights\n",
    "    w -= learning_rate*dw\n",
    "\n",
    "    if epoch % 2==0:\n",
    "        print(f\"epoch {epoch+1}: w = {w: .3f}, loss = {l:.8f}\")\n",
    "    if l==0:\n",
    "        break\n"
   ]
  },
  {
   "cell_type": "code",
   "execution_count": 27,
   "metadata": {},
   "outputs": [
    {
     "name": "stdout",
     "output_type": "stream",
     "text": [
      "Prediction after training: f(5) =  9.999\n"
     ]
    }
   ],
   "source": [
    "print(f\"Prediction after training: f(5) = {forward(5): .3f}\")"
   ]
  },
  {
   "cell_type": "markdown",
   "metadata": {},
   "source": [
    "### Now let us use torch for all the implementation"
   ]
  },
  {
   "cell_type": "code",
   "execution_count": 57,
   "metadata": {},
   "outputs": [],
   "source": [
    "import torch"
   ]
  },
  {
   "cell_type": "code",
   "execution_count": 58,
   "metadata": {},
   "outputs": [],
   "source": [
    "x = torch.tensor([1,2,3,4], dtype=torch.float32)\n",
    "y = torch.tensor([2,4,6,8], dtype=torch.float32)"
   ]
  },
  {
   "cell_type": "code",
   "execution_count": 59,
   "metadata": {},
   "outputs": [],
   "source": [
    "w = torch.tensor(0.0, dtype=torch.float32, requires_grad=True)"
   ]
  },
  {
   "cell_type": "code",
   "execution_count": 60,
   "metadata": {},
   "outputs": [
    {
     "name": "stdout",
     "output_type": "stream",
     "text": [
      "Prediction before training: f(5) =  0.000\n"
     ]
    }
   ],
   "source": [
    "# forward and loss functions defined above can be used as it is\n",
    "print(f\"Prediction before training: f(5) = {forward(5): .3f}\")"
   ]
  },
  {
   "cell_type": "code",
   "execution_count": 61,
   "metadata": {},
   "outputs": [
    {
     "name": "stdout",
     "output_type": "stream",
     "text": [
      "epoch 1: w =  0.300, loss = 30.00000000\n",
      "epoch 3: w =  0.772, loss = 15.66018772\n",
      "epoch 5: w =  1.113, loss = 8.17471695\n",
      "epoch 7: w =  1.359, loss = 4.26725292\n",
      "epoch 9: w =  1.537, loss = 2.22753215\n",
      "epoch 11: w =  1.665, loss = 1.16278565\n",
      "epoch 13: w =  1.758, loss = 0.60698116\n",
      "epoch 15: w =  1.825, loss = 0.31684780\n",
      "epoch 17: w =  1.874, loss = 0.16539653\n",
      "epoch 19: w =  1.909, loss = 0.08633806\n"
     ]
    }
   ],
   "source": [
    "learning_rate = 0.01\n",
    "n_iters = 20\n",
    "\n",
    "for epoch in range(n_iters):\n",
    "\n",
    "    # prediction = forward pass\n",
    "    y_pred = forward(x)\n",
    "    \n",
    "    # loss\n",
    "    l = loss(y, y_pred)\n",
    "\n",
    "    # gradient\n",
    "    # dw = gradient(x,y,y_pred) # We do not need to implement this\n",
    "    l.backward() # this will calculate gradient of our loss\n",
    "\n",
    "    # update weights\n",
    "    # w -= learning_rate*dw # We do not need to update the weights like this\n",
    "    with torch.no_grad(): # we use this so that the update does not become part of our computational graph\n",
    "        w -= learning_rate * w.grad\n",
    "\n",
    "    # zero gradients\n",
    "    # Now we will empty our gradients to zero so that they don't accumulate and make increasing corrections\n",
    "\n",
    "    w.grad.zero_()\n",
    "\n",
    "    if epoch % 2==0:\n",
    "        print(f\"epoch {epoch+1}: w = {w: .3f}, loss = {l:.8f}\")\n",
    "    if l==0:\n",
    "        break"
   ]
  },
  {
   "cell_type": "code",
   "execution_count": 62,
   "metadata": {},
   "outputs": [
    {
     "name": "stdout",
     "output_type": "stream",
     "text": [
      "Prediction after training: f(5) =  9.612\n"
     ]
    }
   ],
   "source": [
    "print(f\"Prediction after training: f(5) = {forward(5): .3f}\")"
   ]
  },
  {
   "cell_type": "code",
   "execution_count": null,
   "metadata": {},
   "outputs": [],
   "source": []
  }
 ],
 "metadata": {
  "kernelspec": {
   "display_name": "Python 3",
   "language": "python",
   "name": "python3"
  },
  "language_info": {
   "codemirror_mode": {
    "name": "ipython",
    "version": 3
   },
   "file_extension": ".py",
   "mimetype": "text/x-python",
   "name": "python",
   "nbconvert_exporter": "python",
   "pygments_lexer": "ipython3",
   "version": "3.9.18"
  }
 },
 "nbformat": 4,
 "nbformat_minor": 2
}
