{
 "cells": [
  {
   "cell_type": "markdown",
   "metadata": {},
   "source": [
    "## PyTorch Tutorial 11 - Softmax and Cross Entropy"
   ]
  },
  {
   "cell_type": "markdown",
   "metadata": {},
   "source": [
    "Contents of this file got deleted\n",
    "\n",
    "Outline:\n",
    "\n",
    "Defined softmax (just for demo)\n",
    "Defined Cross entropy (just for demo)\n",
    "\n",
    "Defined a 2 layer neural network class with linear1, relu activation and linear 2 layers\n",
    "Used cross entropy loss"
   ]
  }
 ],
 "metadata": {
  "language_info": {
   "name": "python"
  }
 },
 "nbformat": 4,
 "nbformat_minor": 2
}
